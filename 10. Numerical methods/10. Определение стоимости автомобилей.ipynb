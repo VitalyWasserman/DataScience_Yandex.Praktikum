{
 "cells": [
  {
   "cell_type": "markdown",
   "metadata": {},
   "source": [
    "# Проект \"Определение стоимости автомобилей\""
   ]
  },
  {
   "cell_type": "markdown",
   "metadata": {},
   "source": [
    "### Цель проекта:"
   ]
  },
  {
   "cell_type": "markdown",
   "metadata": {},
   "source": [
    "В нашем распоряжении исторические данные по автомобилям:\n",
    "+ технические характеристики, \n",
    "+ комплектации и цены автомобилей. \n",
    "\n",
    "Нам нужно построить модель для определения стоимости.  \n",
    "\n",
    "Заказчику важны:  \n",
    "+ качество предсказания;\n",
    "+ скорость предсказания;\n",
    "+ время обучения."
   ]
  },
  {
   "cell_type": "markdown",
   "metadata": {},
   "source": [
    "### Описание даных"
   ]
  },
  {
   "cell_type": "markdown",
   "metadata": {},
   "source": [
    "Данные находятся в файле autos.csv.   \n",
    "\n",
    "Признаки: \n",
    "\n",
    "+ DateCrawled — дата скачивания анкеты из базы\n",
    "+ VehicleType — тип автомобильного кузова\n",
    "+ RegistrationYear — год регистрации автомобиля\n",
    "+ Gearbox — тип коробки передач\n",
    "+ Power — мощность (л. с.)\n",
    "+ Model — модель автомобиля\n",
    "+ Kilometer — пробег (км)\n",
    "+ RegistrationMonth — месяц регистрации автомобиля\n",
    "+ FuelType — тип топлива\n",
    "+ Brand — марка автомобиля\n",
    "+ NotRepaired — была машина в ремонте или нет\n",
    "+ DateCreated — дата создания анкеты\n",
    "+ NumberOfPictures — количество фотографий автомобиля\n",
    "+ PostalCode — почтовый индекс владельца анкеты (пользователя)\n",
    "+ LastSeen — дата последней активности пользователя  \n",
    "\n",
    "Целевой признак:  \n",
    "+ Price — цена (евро)"
   ]
  },
  {
   "cell_type": "markdown",
   "metadata": {},
   "source": [
    "# Содержание проекта"
   ]
  },
  {
   "cell_type": "markdown",
   "metadata": {},
   "source": [
    "[1. Загрузка и подготовка данных](#1)  \n",
    "[2. Обучение моделей](#2)  \n",
    "[3. Анализ качества и скорости работы моделей](#3)  "
   ]
  },
  {
   "cell_type": "markdown",
   "metadata": {},
   "source": [
    "### Установка необходимых пакетов"
   ]
  },
  {
   "cell_type": "code",
   "execution_count": null,
   "metadata": {},
   "outputs": [],
   "source": [
    "pip install optuna"
   ]
  },
  {
   "cell_type": "markdown",
   "metadata": {},
   "source": [
    "### Импорт необходимых библиотек"
   ]
  },
  {
   "cell_type": "code",
   "execution_count": null,
   "metadata": {},
   "outputs": [],
   "source": [
    "import pandas as pd\n",
    "import numpy as np\n",
    "\n",
    "from sklearn.preprocessing import OrdinalEncoder\n",
    "from sklearn.preprocessing import LabelEncoder\n",
    "from sklearn.preprocessing import StandardScaler\n",
    "\n",
    "from sklearn.model_selection import train_test_split\n",
    "from sklearn.model_selection import cross_val_score\n",
    "from sklearn.model_selection import GridSearchCV\n",
    "from sklearn.model_selection import KFold\n",
    "\n",
    "from sklearn.linear_model import LinearRegression\n",
    "from sklearn.tree import DecisionTreeRegressor\n",
    "from sklearn.ensemble import RandomForestRegressor\n",
    "\n",
    "from sklearn.metrics import mean_squared_error\n",
    "from sklearn.metrics import make_scorer\n",
    "\n",
    "import lightgbm\n",
    "from lightgbm import LGBMRegressor\n",
    "import optuna.integration.lightgbm as lgb\n",
    "\n",
    "from xgboost import XGBRegressor\n",
    "\n",
    "import warnings\n",
    "import random"
   ]
  },
  {
   "cell_type": "markdown",
   "metadata": {},
   "source": [
    "# 1. Загрузка и подготовка данных <a id=\"1\"></a>"
   ]
  },
  {
   "cell_type": "code",
   "execution_count": null,
   "metadata": {},
   "outputs": [],
   "source": [
    "display(autos.info())\n",
    "display(autos.describe())\n",
    "display(autos.head())"
   ]
  },
  {
   "cell_type": "markdown",
   "metadata": {},
   "source": [
    "Удалим столбцы, не несущие смысловой нагрузки при определении стоимости автомобиля:"
   ]
  },
  {
   "cell_type": "code",
   "execution_count": null,
   "metadata": {},
   "outputs": [],
   "source": [
    "autos.drop(['DateCrawled', 'DateCreated', 'LastSeen'], axis=1, inplace=True)"
   ]
  },
  {
   "cell_type": "markdown",
   "metadata": {},
   "source": [
    "Удалим строки с нулевыми значениями цены, т.к. в рамках данного проекта эти цены аномальны, могут повлиять на качество итогового прогнозирования. Предположительно, данные строки либо ошибочны, либо отражают какой-то рыночный механизм того региона, в котором собиралась база данных.  Т.к. выяснить у заказчика природу этих данных мы не можем, поэтому просто удалим. Аномально большие зачения стоимости оставлены без изменений, т.к. не знаем реалий исследуемого рынка и \"ценности\" конкретного авто."
   ]
  },
  {
   "cell_type": "code",
   "execution_count": null,
   "metadata": {},
   "outputs": [],
   "source": [
    "autos = autos.query('Price > 0')"
   ]
  },
  {
   "cell_type": "markdown",
   "metadata": {},
   "source": [
    "Удалим строки с явно некорректными датами регистрации (выпуска автомобиля)"
   ]
  },
  {
   "cell_type": "code",
   "execution_count": null,
   "metadata": {},
   "outputs": [],
   "source": [
    "autos.query('RegistrationYear < 1900 or RegistrationYear > 2021')['RegistrationYear'].count()"
   ]
  },
  {
   "cell_type": "code",
   "execution_count": null,
   "metadata": {},
   "outputs": [],
   "source": [
    "autos.RegistrationYear.unique()"
   ]
  },
  {
   "cell_type": "code",
   "execution_count": null,
   "metadata": {},
   "outputs": [],
   "source": [
    "autos = autos.query('RegistrationYear > 1900 and RegistrationYear <= 2021')"
   ]
  },
  {
   "cell_type": "markdown",
   "metadata": {},
   "source": [
    "Оценим количество некорректных значений месяца регистрации "
   ]
  },
  {
   "cell_type": "code",
   "execution_count": null,
   "metadata": {},
   "outputs": [],
   "source": [
    "autos.RegistrationMonth.unique()"
   ]
  },
  {
   "cell_type": "code",
   "execution_count": null,
   "metadata": {},
   "outputs": [],
   "source": [
    "autos.query('RegistrationMonth == 0')['RegistrationMonth'].count()"
   ]
  },
  {
   "cell_type": "code",
   "execution_count": null,
   "metadata": {},
   "outputs": [],
   "source": [
    "autos.RegistrationMonth.value_counts()"
   ]
  },
  {
   "cell_type": "markdown",
   "metadata": {},
   "source": [
    "Т.к. кол-во значительно, удаление нецелесообразно, заполним рандомно"
   ]
  },
  {
   "cell_type": "code",
   "execution_count": null,
   "metadata": {},
   "outputs": [],
   "source": [
    "def rand_month(row):\n",
    "    \"\"\"\n",
    "    Функция рандомайзера для значений (1, 12):\n",
    "    row - строка DF \n",
    "    Возвращает значение от 1 до 12\n",
    "    \"\"\"\n",
    "    return random.randint(1, 12)"
   ]
  },
  {
   "cell_type": "code",
   "execution_count": null,
   "metadata": {},
   "outputs": [],
   "source": [
    "warnings.filterwarnings(\"ignore\")\n",
    "month_zero = autos.query('RegistrationMonth == 0')\n",
    "month_zero['RegistrationMonth'] = month_zero.apply(rand_month, axis=1)\n"
   ]
  },
  {
   "cell_type": "code",
   "execution_count": null,
   "metadata": {},
   "outputs": [],
   "source": [
    "autos.loc[month_zero.index, 'RegistrationMonth'] = month_zero.loc[:, 'RegistrationMonth']"
   ]
  },
  {
   "cell_type": "markdown",
   "metadata": {},
   "source": [
    "Обработаем некорректные значения мощности, заполним значения меньше 10 л.с. и больше 500 л.с. медианным значением."
   ]
  },
  {
   "cell_type": "code",
   "execution_count": null,
   "metadata": {},
   "outputs": [],
   "source": [
    "median = autos.query('Power > 10 and Power < 500')['Power'].median()\n",
    "print(median)"
   ]
  },
  {
   "cell_type": "code",
   "execution_count": null,
   "metadata": {},
   "outputs": [],
   "source": [
    "autos.loc[autos.loc[:, 'Power'] < 10, 'Power'] = median\n",
    "autos.loc[autos.loc[:, 'Power'] > 500, 'Power'] = median"
   ]
  },
  {
   "cell_type": "markdown",
   "metadata": {},
   "source": [
    "Удалим дубликаты"
   ]
  },
  {
   "cell_type": "code",
   "execution_count": null,
   "metadata": {},
   "outputs": [],
   "source": [
    "autos.duplicated().sum()"
   ]
  },
  {
   "cell_type": "code",
   "execution_count": null,
   "metadata": {},
   "outputs": [],
   "source": [
    "autos = autos.drop_duplicates().reset_index(drop=True)"
   ]
  },
  {
   "cell_type": "markdown",
   "metadata": {},
   "source": [
    "## Вывод"
   ]
  },
  {
   "cell_type": "markdown",
   "metadata": {},
   "source": [
    "На данном этапе обработали очевидно аномальные значения и дубликаты. Первые обусловлены скорее всего ошибками пользователей, вторые дублирование продажи одного и того же автомобиля самим продавцом или агентами.  \n",
    "Кроме того, произведен предварительный анализ предоставленых данных, удалены те, которые не представляют интереса в будущем моделировании."
   ]
  },
  {
   "cell_type": "markdown",
   "metadata": {},
   "source": [
    "### Обработка пропусков:"
   ]
  },
  {
   "cell_type": "markdown",
   "metadata": {},
   "source": [
    "### VehicleType"
   ]
  },
  {
   "cell_type": "markdown",
   "metadata": {},
   "source": [
    "Заполним пустые значения типа кузова. Создадим \"словарь\" Брэнд-Модель-Тип кузова-Количество автомобилей, с сортировкой по убыванию, по количеству автомобилей. В качестве искомого типа кузова примем самое частое значение типа кузова для автомобиля аналогичного бренда и модели."
   ]
  },
  {
   "cell_type": "code",
   "execution_count": null,
   "metadata": {},
   "outputs": [],
   "source": [
    "model_type_pivot = autos.pivot_table(\n",
    "    index=['Brand', 'Model', 'VehicleType'], values='Price', aggfunc='count')"
   ]
  },
  {
   "cell_type": "markdown",
   "metadata": {},
   "source": [
    "Сортируем сводную таблицу по убыванию количества автомобилей заданного бренда, модели и типа кузова:"
   ]
  },
  {
   "cell_type": "code",
   "execution_count": null,
   "metadata": {},
   "outputs": [],
   "source": [
    "model_type_pivot = model_type_pivot.groupby(\n",
    "    level=['Brand', 'Model'], group_keys=False\n",
    ").apply(pd.DataFrame.sort_values, by='Price', ascending=False)\n",
    "\n",
    "model_type_pivot.columns = ['Count']\n",
    "\n",
    "display(model_type_pivot)"
   ]
  },
  {
   "cell_type": "markdown",
   "metadata": {},
   "source": [
    "Оставляем в таблице только самые частые значения `VehicleType` для каждого бренда и модели (первую строку каждой группы):"
   ]
  },
  {
   "cell_type": "code",
   "execution_count": null,
   "metadata": {},
   "outputs": [],
   "source": [
    "df_temp = model_type_pivot.reset_index().drop(\n",
    "    'Count', axis=1).groupby(['Brand', 'Model']).first()\n",
    "display(df_temp)"
   ]
  },
  {
   "cell_type": "code",
   "execution_count": null,
   "metadata": {},
   "outputs": [],
   "source": [
    "def get_model2(string, dict = df_temp.reset_index()):\n",
    "    \"\"\"\n",
    "    Функция для определения типа кузова автомобиля по Брэнду и Модели:\n",
    "    string - строка DF, в которой необходимо заполнить тип кузова\n",
    "    dict - словарь брендов, моделей, кузовов а/м\n",
    "    Возвращает тип кузова.\n",
    "    \"\"\"\n",
    "    for index, row in dict.iterrows():\n",
    "        if (row['Brand'] == string['Brand']) & (row['Model'] == string['Model']):\n",
    "            return row['VehicleType']\n"
   ]
  },
  {
   "cell_type": "markdown",
   "metadata": {},
   "source": [
    "Создадим отдельный датафрейм с записями, подлежащими корректировке."
   ]
  },
  {
   "cell_type": "code",
   "execution_count": null,
   "metadata": {},
   "outputs": [],
   "source": [
    "type_nan = autos.query('VehicleType != VehicleType and Brand == Brand and Model == Model') \n",
    "display(type_nan)"
   ]
  },
  {
   "cell_type": "code",
   "execution_count": null,
   "metadata": {},
   "outputs": [],
   "source": [
    "%%time\n",
    "# Заполняем отсутствующие значения\n",
    "warnings.filterwarnings(\"ignore\")\n",
    "type_nan['VehicleType']  = type_nan.apply(get_model2, axis = 1)"
   ]
  },
  {
   "cell_type": "markdown",
   "metadata": {},
   "source": [
    "Wall time: 16min 46s"
   ]
  },
  {
   "cell_type": "code",
   "execution_count": null,
   "metadata": {},
   "outputs": [],
   "source": [
    "autos.loc[type_nan.index, 'VehicleType'] = type_nan.loc[:, 'VehicleType']"
   ]
  },
  {
   "cell_type": "code",
   "execution_count": null,
   "metadata": {},
   "outputs": [],
   "source": [
    "display(autos.head())"
   ]
  },
  {
   "cell_type": "markdown",
   "metadata": {},
   "source": [
    "Оставшиеся пустые значения типа кузова заменим на `others`"
   ]
  },
  {
   "cell_type": "code",
   "execution_count": null,
   "metadata": {},
   "outputs": [],
   "source": [
    "autos.VehicleType = autos.VehicleType.fillna('other')"
   ]
  },
  {
   "cell_type": "markdown",
   "metadata": {},
   "source": [
    "Прочие пропущенные параметры автомобиля заменим либо на наиболее употребимое, либо на `others`, если это уместно и нет однозначного параметра, по которому можно точно установить пропущенное значение. "
   ]
  },
  {
   "cell_type": "code",
   "execution_count": null,
   "metadata": {},
   "outputs": [],
   "source": [
    "autos.Gearbox.value_counts()"
   ]
  },
  {
   "cell_type": "code",
   "execution_count": null,
   "metadata": {},
   "outputs": [],
   "source": [
    "autos.Gearbox = autos.Gearbox.fillna('manual')"
   ]
  },
  {
   "cell_type": "code",
   "execution_count": null,
   "metadata": {},
   "outputs": [],
   "source": [
    "autos.Model.value_counts()"
   ]
  },
  {
   "cell_type": "code",
   "execution_count": null,
   "metadata": {},
   "outputs": [],
   "source": [
    "autos.Model = autos.Model.fillna('other')"
   ]
  },
  {
   "cell_type": "code",
   "execution_count": null,
   "metadata": {},
   "outputs": [],
   "source": [
    "autos.FuelType.value_counts()"
   ]
  },
  {
   "cell_type": "code",
   "execution_count": null,
   "metadata": {},
   "outputs": [],
   "source": [
    "autos.FuelType = autos.FuelType.fillna('other')"
   ]
  },
  {
   "cell_type": "code",
   "execution_count": null,
   "metadata": {},
   "outputs": [],
   "source": [
    "autos.NotRepaired.value_counts()"
   ]
  },
  {
   "cell_type": "code",
   "execution_count": null,
   "metadata": {},
   "outputs": [],
   "source": [
    "autos.NotRepaired = autos.NotRepaired.fillna('no')"
   ]
  },
  {
   "cell_type": "code",
   "execution_count": null,
   "metadata": {},
   "outputs": [],
   "source": [
    "autos.reset_index(drop=True)\n",
    "autos.info()"
   ]
  },
  {
   "cell_type": "markdown",
   "metadata": {},
   "source": [
    "Обработка пропусков завершена"
   ]
  },
  {
   "cell_type": "markdown",
   "metadata": {},
   "source": [
    "### Кодирование категориальных признаков"
   ]
  },
  {
   "cell_type": "markdown",
   "metadata": {},
   "source": [
    "Столбец `Model` закодируем через `LabelEncoder`, остальные через OHE."
   ]
  },
  {
   "cell_type": "code",
   "execution_count": null,
   "metadata": {},
   "outputs": [],
   "source": [
    "encoder = LabelEncoder()\n",
    "encoder.fit(autos['Model'])\n",
    "autos['Model'] = encoder.transform(autos['Model'])\n",
    "\n",
    "autos = pd.get_dummies(autos, drop_first=True)"
   ]
  },
  {
   "cell_type": "code",
   "execution_count": null,
   "metadata": {},
   "outputs": [],
   "source": [
    "display(autos.head())"
   ]
  },
  {
   "cell_type": "code",
   "execution_count": null,
   "metadata": {},
   "outputs": [],
   "source": [
    "autos.reset_index(drop=True)\n",
    "autos.info()"
   ]
  },
  {
   "cell_type": "markdown",
   "metadata": {},
   "source": [
    "### Масштабирование признаков"
   ]
  },
  {
   "cell_type": "code",
   "execution_count": null,
   "metadata": {},
   "outputs": [],
   "source": [
    "features = autos.drop('Price', axis=1)\n",
    "target = autos['Price']"
   ]
  },
  {
   "cell_type": "code",
   "execution_count": null,
   "metadata": {},
   "outputs": [],
   "source": [
    "features_train, features_test, target_train, target_test = train_test_split(features, target,  test_size = 0.25, random_state = 12345)"
   ]
  },
  {
   "cell_type": "code",
   "execution_count": null,
   "metadata": {},
   "outputs": [],
   "source": [
    "warnings.filterwarnings(\"ignore\")\n",
    "numeric = ['RegistrationYear', 'Power', 'Kilometer','Model', 'RegistrationMonth', 'NumberOfPictures', 'PostalCode']\n",
    "\n",
    "scaler = StandardScaler()\n",
    "scaler.fit(features_train[numeric])\n",
    "\n",
    "features_train[numeric] = scaler.transform(features_train[numeric])\n",
    "features_test[numeric] = scaler.transform(features_test[numeric])\n",
    "\n",
    "display(features_train.head())"
   ]
  },
  {
   "cell_type": "markdown",
   "metadata": {},
   "source": [
    "## Вывод"
   ]
  },
  {
   "cell_type": "markdown",
   "metadata": {},
   "source": [
    "Проведена предобработка данных, обработаны пропущенные значения, произведено кодирование категориальных признаков и выполнено масштабирование."
   ]
  },
  {
   "cell_type": "markdown",
   "metadata": {},
   "source": [
    "# 2. Обучение моделей <a id=\"2\"></a>"
   ]
  },
  {
   "cell_type": "markdown",
   "metadata": {},
   "source": [
    "Обучим несколько моделей, предварительно оценим результаты, по итогам подбора параметров.   \n"
   ]
  },
  {
   "cell_type": "code",
   "execution_count": null,
   "metadata": {},
   "outputs": [],
   "source": [
    "def rmse(target, predict):\n",
    "    \"\"\"\n",
    "    Функция расчета RMSE:\n",
    "    target - целевой признак\n",
    "    predict - предсказание\n",
    "    Возвращает RMSE.\n",
    "    \"\"\"\n",
    "    return (mean_squared_error(target, predict)) ** 0.5"
   ]
  },
  {
   "cell_type": "code",
   "execution_count": null,
   "metadata": {},
   "outputs": [],
   "source": [
    "# Создадим метрику \n",
    "custom_scorer = make_scorer(rmse, greater_is_better=False)"
   ]
  },
  {
   "cell_type": "markdown",
   "metadata": {},
   "source": [
    "### LinearRegression"
   ]
  },
  {
   "cell_type": "code",
   "execution_count": null,
   "metadata": {},
   "outputs": [],
   "source": [
    "%%time\n",
    "model = LinearRegression()\n",
    "RMSE = pd.Series(cross_val_score(\n",
    "    model, features_train, target_train, scoring=custom_scorer, cv=3)).max()\n",
    "print('RMSE', RMSE)"
   ]
  },
  {
   "cell_type": "markdown",
   "metadata": {},
   "source": [
    "### RandomForest Regressor"
   ]
  },
  {
   "cell_type": "code",
   "execution_count": null,
   "metadata": {},
   "outputs": [],
   "source": [
    "%%time\n",
    "model = RandomForestRegressor(random_state=12345, criterion='mse')\n",
    "# уже оптимизированные параметры, для экономии времени расчета\n",
    "parameters = {'n_estimators': [40], 'max_depth': [50]}\n",
    "grid = GridSearchCV(model, parameters, scoring=custom_scorer, cv=3)\n",
    "grid.fit(features_train, target_train)\n",
    "\n",
    "print('Оптимальные параметры модели:', grid.best_params_)\n",
    "print('RMSE', grid.best_score_)"
   ]
  },
  {
   "cell_type": "markdown",
   "metadata": {},
   "source": [
    "Результат предыдущего запуска:  \n",
    "Оптимальные параметры модели: {'max_depth': 50, 'n_estimators': 40}  \n",
    "RMSE -1734.3282855473062  \n",
    "CPU times: user 7min 50s, sys: 2.06 s, total: 7min 52s  \n",
    "Wall time: 7min 53s\n"
   ]
  },
  {
   "cell_type": "markdown",
   "metadata": {},
   "source": [
    "### XGBoost"
   ]
  },
  {
   "cell_type": "code",
   "execution_count": null,
   "metadata": {},
   "outputs": [],
   "source": [
    "%%time\n",
    "model = XGBRegressor(random_state=12345)\n",
    "# уже оптимизированные параметры, для экономии времени расчета\n",
    "parameters = {'n_estimators': [25], 'max_depth': [12]}\n",
    "grid = GridSearchCV(model, parameters, scoring=custom_scorer, cv=3)\n",
    "grid.fit(features_train, target_train)\n",
    "\n",
    "print('Оптимальные параметры модели:', grid.best_params_)\n",
    "rmse = grid.best_score_\n",
    "print('RMSE', rmse)"
   ]
  },
  {
   "cell_type": "markdown",
   "metadata": {},
   "source": [
    "Результат предыдущего запуска:  \n",
    "Оптимальные параметры модели: {'max_depth': 12, 'n_estimators': 25}  \n",
    "RMSE -1715.7998195591829  \n",
    "CPU times: user 6min 14s, sys: 5.34 s, total: 6min 20s  \n",
    "Wall time: 1min 41s"
   ]
  },
  {
   "cell_type": "markdown",
   "metadata": {},
   "source": [
    "Подбор параметров с помощью `GridSearchCV` для моделей `RandomForestRegressor` и `XGBRegressor` с большим диапазоном параметров занимает очень много времени, поэтому оставлены оптимизированные параметры и результаты последнего запуска. "
   ]
  },
  {
   "cell_type": "markdown",
   "metadata": {},
   "source": [
    "### LightGBM"
   ]
  },
  {
   "cell_type": "markdown",
   "metadata": {},
   "source": [
    "Для подбора параметров `LightGBM` используем фреймворк подбора гиперпараметров `Optuna`, рекомендованный документацией LightGBM  и тюнер `LightGBMTunerCV`"
   ]
  },
  {
   "cell_type": "code",
   "execution_count": null,
   "metadata": {
    "scrolled": true
   },
   "outputs": [],
   "source": [
    "%%time\n",
    "dtrain = lgb.Dataset(features_train, label=target_train)\n",
    "params = {\n",
    "    \"objective\": \"regression\",\n",
    "    \"metric\": \"rmse\",\n",
    "    \"verbosity\": -1,\n",
    "    \"boosting_type\": \"gbdt\"\n",
    "    \n",
    "}\n",
    "\n",
    "tuner = lgb.LightGBMTunerCV(params, dtrain, verbose_eval=250, early_stopping_rounds=250, folds=KFold(n_splits=3))\n",
    "\n",
    "tuner.run()\n",
    "\n",
    "best_score = tuner.best_score\n",
    "print(\"RMSE:\", best_score)\n",
    "best_params = tuner.best_params\n",
    "print(\"Оптимальные параметры модели:\", best_params)"
   ]
  },
  {
   "cell_type": "markdown",
   "metadata": {},
   "source": [
    "Результат предыдущего запуска:  \n",
    "RMSE: 1635.2636092534503  \n",
    "Оптимальные параметры модели: {'objective': 'regression', 'metric': 'rmse', 'verbosity': -1, 'boosting_type': 'gbdt', 'feature_pre_filter': False, 'lambda_l1': 0.0, 'lambda_l2': 0.0, 'num_leaves': 143, 'feature_fraction': 0.7, 'bagging_fraction': 1.0, 'bagging_freq': 0, 'min_child_samples': 5}"
   ]
  },
  {
   "cell_type": "markdown",
   "metadata": {},
   "source": [
    "## Вывод"
   ]
  },
  {
   "cell_type": "markdown",
   "metadata": {},
   "source": [
    "По итогам подбора параметров, `RandomForestRegressor`, `XGBRegressor`, `LightGBM` показывают схожие результаты по метрике RMSE, в диапазоне 1640-1740.  \n",
    "Далее на полученных оптимизированных параметрах обучим эти модели и сделаем прогноз на тестовой выборке.  \n",
    "Также на этом этапе оценим скорость работы моделей."
   ]
  },
  {
   "cell_type": "markdown",
   "metadata": {},
   "source": [
    "# 3. Анализ качества и скорости работы моделей <a id=\"1\"></a>"
   ]
  },
  {
   "cell_type": "code",
   "execution_count": null,
   "metadata": {},
   "outputs": [],
   "source": [
    "def rmse_test(model, features_train=features_train, target_train=target_train, features_test=features_test, target_test=target_test):\n",
    "    \"\"\"\n",
    "    Функция расчета RMSE для тестовой выборки:\n",
    "    model - модель\n",
    "    target - целевой признак\n",
    "    features - признаки\n",
    "    Возвращает RMSE.\n",
    "    \"\"\"\n",
    "    model.fit(features_train, target_train)\n",
    "    predicted_test = model.predict(features_test)\n",
    "    mse = mean_squared_error(target_test, predicted_test)\n",
    "    return mse ** 0.5"
   ]
  },
  {
   "cell_type": "code",
   "execution_count": null,
   "metadata": {},
   "outputs": [],
   "source": [
    "%%time\n",
    "model = RandomForestRegressor(random_state=12345, max_depth=50, n_estimators=40)\n",
    "print(\"RMSE =\", rmse_test(model))"
   ]
  },
  {
   "cell_type": "code",
   "execution_count": null,
   "metadata": {},
   "outputs": [],
   "source": [
    "%%time\n",
    "model = XGBRegressor(random_state=12345, max_depth=12, n_estimators=25)\n",
    "print(\"RMSE =\", rmse_test(model))"
   ]
  },
  {
   "cell_type": "code",
   "execution_count": null,
   "metadata": {},
   "outputs": [],
   "source": [
    "%%time\n",
    "model = LGBMRegressor(random_state=12345, num_leaves=202, min_child_samples=5)\n",
    "print(\"RMSE =\", rmse_test(model))"
   ]
  },
  {
   "cell_type": "markdown",
   "metadata": {},
   "source": [
    "## Вывод"
   ]
  },
  {
   "cell_type": "markdown",
   "metadata": {},
   "source": [
    "Модель `LGBMRegressor` на тестовых выборках также показала наилучшие результаты как по значению искомой метрики (RMSE=1669), так и по скорости обучения (6,2 сек)."
   ]
  },
  {
   "cell_type": "markdown",
   "metadata": {},
   "source": [
    "# Общий вывод"
   ]
  },
  {
   "cell_type": "markdown",
   "metadata": {},
   "source": [
    "В процессе выполнения проекта были оценены различные модели с позиции скорости их обучения и точности предсказаний стоимости автомобиля.  \n",
    "Результаты показывают, что модели на основе градиентного бустинга обучаются значительно быстрее моделей линейной регрессии и случайного леса на предоставленных данных.  \n",
    "Итоговую модель LightGBM, показывающую наилучшие результаты применим для целей бизнеса - предсказания стоимости автомобиля сервиса \"Не бит, не крашен\".  "
   ]
  },
  {
   "cell_type": "code",
   "execution_count": null,
   "metadata": {},
   "outputs": [],
   "source": []
  }
 ],
 "metadata": {
  "kernelspec": {
   "display_name": "Python 3",
   "language": "python",
   "name": "python3"
  },
  "language_info": {
   "codemirror_mode": {
    "name": "ipython",
    "version": 3
   },
   "file_extension": ".py",
   "mimetype": "text/x-python",
   "name": "python",
   "nbconvert_exporter": "python",
   "pygments_lexer": "ipython3",
   "version": "3.8.8"
  },
  "toc": {
   "base_numbering": 1,
   "nav_menu": {},
   "number_sections": false,
   "sideBar": true,
   "skip_h1_title": false,
   "title_cell": "Table of Contents",
   "title_sidebar": "Contents",
   "toc_cell": false,
   "toc_position": {},
   "toc_section_display": true,
   "toc_window_display": false
  }
 },
 "nbformat": 4,
 "nbformat_minor": 4
}
